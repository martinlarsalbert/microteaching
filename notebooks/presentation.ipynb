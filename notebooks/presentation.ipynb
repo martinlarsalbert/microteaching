{
 "cells": [
  {
   "cell_type": "markdown",
   "metadata": {
    "slideshow": {
     "slide_type": "slide"
    }
   },
   "source": [
    "# Ship roll-decay simulation"
   ]
  },
  {
   "cell_type": "markdown",
   "metadata": {
    "slideshow": {
     "slide_type": "fragment"
    }
   },
   "source": [
    "* Damping of dynamic systems"
   ]
  },
  {
   "cell_type": "markdown",
   "metadata": {
    "slideshow": {
     "slide_type": "fragment"
    }
   },
   "source": [
    "* Ship roll damping"
   ]
  },
  {
   "cell_type": "markdown",
   "metadata": {
    "cell_style": "center",
    "slideshow": {
     "slide_type": "fragment"
    }
   },
   "source": [
    "* Simulation State Space models"
   ]
  },
  {
   "cell_type": "markdown",
   "metadata": {
    "cell_style": "split",
    "slideshow": {
     "slide_type": "fragment"
    }
   },
   "source": [
    "* \"Not rocket science\""
   ]
  },
  {
   "cell_type": "markdown",
   "metadata": {
    "cell_style": "split",
    "slideshow": {
     "slide_type": "fragment"
    }
   },
   "source": [
    "<img src=\"https://upload.wikimedia.org/wikipedia/commons/7/7d/Apollo_11_Launch2.jpg\" alt=\"Trulli\" style=\"width:40%\">"
   ]
  },
  {
   "cell_type": "code",
   "execution_count": null,
   "metadata": {
    "slideshow": {
     "slide_type": "skip"
    }
   },
   "outputs": [],
   "source": [
    "#hide\n",
    "import warnings\n",
    "warnings.filterwarnings(\"ignore\")\n",
    "%load_ext autoreload\n",
    "%autoreload 2"
   ]
  },
  {
   "cell_type": "markdown",
   "metadata": {
    "slideshow": {
     "slide_type": "slide"
    }
   },
   "source": [
    "<iframe width=\"2000\" height=\"1000\" data-src=\"https://www.youtube.com/embed/j-zczJXSxnw?start=20&mute=1&autoplay=1\" data-autoplay></iframe>"
   ]
  },
  {
   "cell_type": "markdown",
   "metadata": {
    "slideshow": {
     "slide_type": "slide"
    }
   },
   "source": [
    "<iframe width=\"2000\" height=\"1000\" data-src=\"https://www.youtube.com/embed/7PyJj_oPdyg?start=29&mute=1&autoplay=1\" frameborder=\"0\" allow=\"accelerometer; autoplay; clipboard-write; encrypted-media; gyroscope; picture-in-picture\" allowfullscreen></iframe>"
   ]
  },
  {
   "cell_type": "markdown",
   "metadata": {
    "slideshow": {
     "slide_type": "slide"
    }
   },
   "source": [
    "<iframe width=\"2000\" height=\"1000\" data-src=\"https://www.youtube.com/embed/gN123b8gM-o?start=0&autoplay=1\" frameborder=\"0\" allow=\"accelerometer; autoplay; clipboard-write; encrypted-media; gyroscope; picture-in-picture\" allowfullscreen></iframe>"
   ]
  },
  {
   "cell_type": "code",
   "execution_count": null,
   "metadata": {
    "slideshow": {
     "slide_type": "skip"
    }
   },
   "outputs": [],
   "source": [
    "from scipy.integrate import solve_ivp\n",
    "import numpy as np\n",
    "import pandas as pd\n",
    "import matplotlib.pyplot as plt\n",
    "from ipywidgets import interactive\n",
    "from IPython.core.display import HTML, display\n",
    "from animations import BallAnimation, RollDecayAnimation\n",
    "plt.style.use('dark_background')\n",
    "plt.rcParams[\"animation.html\"] = \"jshtml\""
   ]
  },
  {
   "cell_type": "markdown",
   "metadata": {
    "slideshow": {
     "slide_type": "slide"
    }
   },
   "source": [
    "# Simulation State Space Model"
   ]
  },
  {
   "cell_type": "markdown",
   "metadata": {
    "slideshow": {
     "slide_type": "notes"
    }
   },
   "source": [
    "* Newtons 2nd law can be used to predict the resulting motion from forces:"
   ]
  },
  {
   "cell_type": "code",
   "execution_count": null,
   "metadata": {
    "slideshow": {
     "slide_type": "skip"
    }
   },
   "outputs": [],
   "source": [
    "dt = 1/10\n",
    "ts = np.arange(0,10,dt)\n",
    "g=9.81\n",
    "F=-g\n",
    "m=1\n",
    "velocity=0.0  # initial velocity\n",
    "position=0.0  # initial position\n",
    "positions=[]\n",
    "for n in range(len(ts)):\n",
    "    acceleration = F/m\n",
    "    velocity = velocity + acceleration*dt\n",
    "    position = position + velocity*dt\n",
    "    positions.append(position)\n",
    "positions = np.array(positions)"
   ]
  },
  {
   "cell_type": "markdown",
   "metadata": {
    "cell_style": "split",
    "slideshow": {
     "slide_type": "fragment"
    }
   },
   "source": [
    "## Simulation 1: Ball drop in vacuum"
   ]
  },
  {
   "cell_type": "code",
   "execution_count": null,
   "metadata": {
    "cell_style": "split",
    "slideshow": {
     "slide_type": "fragment"
    }
   },
   "outputs": [],
   "source": [
    "anim_ball = BallAnimation(ts=ts, positions=positions)\n",
    "plt.close()  \n",
    "display(HTML(anim_ball.to_jshtml()))"
   ]
  },
  {
   "cell_type": "markdown",
   "metadata": {
    "cell_style": "split",
    "slideshow": {
     "slide_type": "slide"
    }
   },
   "source": [
    "$$F=m \\cdot a$$"
   ]
  },
  {
   "cell_type": "markdown",
   "metadata": {
    "cell_style": "split",
    "slideshow": {
     "slide_type": "fragment"
    }
   },
   "source": [
    "$$F=-g $$"
   ]
  },
  {
   "cell_type": "markdown",
   "metadata": {
    "cell_style": "split",
    "slideshow": {
     "slide_type": "fragment"
    }
   },
   "source": [
    "$$a=\\frac{-g}{m}$$"
   ]
  },
  {
   "cell_type": "markdown",
   "metadata": {
    "cell_style": "split",
    "slideshow": {
     "slide_type": "fragment"
    }
   },
   "source": [
    "$$ \\ddot{x} = a $$"
   ]
  },
  {
   "cell_type": "markdown",
   "metadata": {
    "cell_style": "split",
    "slideshow": {
     "slide_type": "fragment"
    }
   },
   "source": [
    "$$ \\dot{x} = \\int_{0}^{t} \\ddot{x} \\,dt  $$"
   ]
  },
  {
   "cell_type": "markdown",
   "metadata": {
    "cell_style": "split",
    "slideshow": {
     "slide_type": "fragment"
    }
   },
   "source": [
    "$$ x = \\int_{0}^{t} \\dot{x} \\,dt  $$"
   ]
  },
  {
   "cell_type": "code",
   "execution_count": null,
   "metadata": {
    "slideshow": {
     "slide_type": "skip"
    }
   },
   "outputs": [],
   "source": [
    "def calculate_acceleration(F,m):\n",
    "    a = F/m\n",
    "    return a "
   ]
  },
  {
   "cell_type": "code",
   "execution_count": null,
   "metadata": {
    "cell_style": "split",
    "slideshow": {
     "slide_type": "slide"
    }
   },
   "outputs": [],
   "source": [
    "dt = 1/10\n",
    "ts = np.arange(0,10,dt)\n",
    "g=9.81\n",
    "F=-g\n",
    "m=1\n",
    "velocity=0.0  # initial velocity\n",
    "position=0.0  # initial position\n",
    "positions=[]\n",
    "for n in range(len(ts)):\n",
    "    acceleration = F/m\n",
    "    velocity = velocity + acceleration*dt\n",
    "    position = position + velocity*dt\n",
    "    positions.append(position)\n",
    "positions = np.array(positions)"
   ]
  },
  {
   "cell_type": "markdown",
   "metadata": {
    "slideshow": {
     "slide_type": "slide"
    }
   },
   "source": [
    "## Simulation 2: Ball drop in air"
   ]
  },
  {
   "cell_type": "markdown",
   "metadata": {
    "cell_style": "split",
    "slideshow": {
     "slide_type": "fragment"
    }
   },
   "source": [
    "$$F=-g + C_d\\cdot\\dot{x}^2$$"
   ]
  },
  {
   "cell_type": "markdown",
   "metadata": {
    "cell_style": "split",
    "slideshow": {
     "slide_type": "fragment"
    }
   },
   "source": [
    "$$\\ddot{x}=\\frac{-g + C_d\\cdot\\dot{x}^2}{m}$$"
   ]
  },
  {
   "cell_type": "markdown",
   "metadata": {
    "cell_style": "split",
    "slideshow": {
     "slide_type": "fragment"
    }
   },
   "source": [
    "$$ \\dot{x} = \\int_{0}^{t} \\frac{-g + C_d\\cdot\\dot{x}^2}{m} \\,dt  $$"
   ]
  },
  {
   "cell_type": "markdown",
   "metadata": {
    "cell_style": "split",
    "slideshow": {
     "slide_type": "fragment"
    }
   },
   "source": [
    "$$ \\dot{x}_{n+1} = \\int_{0}^{t} \\frac{-g + C_d\\cdot\\dot{x_n}^2}{m} \\,dt  $$"
   ]
  },
  {
   "cell_type": "code",
   "execution_count": null,
   "metadata": {
    "slideshow": {
     "slide_type": "skip"
    }
   },
   "outputs": [],
   "source": []
  },
  {
   "cell_type": "code",
   "execution_count": null,
   "metadata": {
    "cell_style": "split",
    "slideshow": {
     "slide_type": "slide"
    }
   },
   "outputs": [],
   "source": [
    "dt = 1/10\n",
    "ts = np.arange(0,10,dt)\n",
    "g=9.81\n",
    "m=1\n",
    "cd=0.02\n",
    "velocity=0.0  # initial velocity\n",
    "position=0.0  # initial position\n",
    "positions=[]\n",
    "for n in range(len(ts)):\n",
    "    F=-g + cd*velocity**2\n",
    "    acceleration = F/m\n",
    "    velocity = velocity + acceleration*dt\n",
    "    position = position + velocity*dt\n",
    "    positions.append(position)\n",
    "positions = np.array(positions)"
   ]
  },
  {
   "cell_type": "code",
   "execution_count": null,
   "metadata": {
    "cell_style": "split",
    "slideshow": {
     "slide_type": "fragment"
    }
   },
   "outputs": [],
   "source": [
    "anim_ball = BallAnimation(ts=ts, positions=positions)\n",
    "plt.close()  \n",
    "display(HTML(anim_ball.to_jshtml()))"
   ]
  },
  {
   "cell_type": "markdown",
   "metadata": {
    "slideshow": {
     "slide_type": "slide"
    }
   },
   "source": [
    "# Ship roll simulation\n",
    "$$ A\\cdot\\ddot{\\phi} + C\\cdot\\phi = 0 $$"
   ]
  },
  {
   "cell_type": "code",
   "execution_count": null,
   "metadata": {
    "cell_style": "split",
    "slideshow": {
     "slide_type": "fragment"
    }
   },
   "outputs": [],
   "source": [
    "dt = 0.1\n",
    "ts = np.arange(0,10*np.pi,dt)\n",
    "g=9.81\n",
    "A=1\n",
    "C=1\n",
    "phi1d=0.0          # initial velocity\n",
    "phi=np.deg2rad(10) # initial roll angle\n",
    "phis=[]\n",
    "for n in range(len(ts)):   \n",
    "    phi2d = -C*phi/A\n",
    "    phi1d = phi1d + phi2d*dt\n",
    "    phi = phi + phi1d*dt\n",
    "    phis.append(phi)\n",
    "phis = np.array(phis)"
   ]
  },
  {
   "cell_type": "code",
   "execution_count": null,
   "metadata": {
    "cell_style": "split",
    "slideshow": {
     "slide_type": "fragment"
    }
   },
   "outputs": [],
   "source": [
    "anim_roll = RollDecayAnimation(ts=ts, phis=phis)\n",
    "plt.close()\n",
    "display(HTML(anim_roll.to_jshtml()))"
   ]
  },
  {
   "cell_type": "markdown",
   "metadata": {
    "slideshow": {
     "slide_type": "slide"
    }
   },
   "source": [
    "# Damping term $B$:\n",
    "$$\n",
    "A\\cdot\\ddot{\\phi} + B\\cdot\\dot{\\phi} + C\\cdot\\phi = 0\n",
    "$$"
   ]
  },
  {
   "cell_type": "code",
   "execution_count": null,
   "metadata": {
    "cell_style": "split",
    "slideshow": {
     "slide_type": "fragment"
    }
   },
   "outputs": [],
   "source": [
    "B=0.2\n",
    "phi1d=0.0          # initial velocity\n",
    "phi=np.deg2rad(10) # initial roll angle\n",
    "phis=[]\n",
    "for n in range(len(ts)):\n",
    "    phi2d = (-C*phi - B*phi1d)/A\n",
    "    phi1d = phi1d + phi2d*dt\n",
    "    phi = phi + phi1d*dt\n",
    "    phis.append(phi)\n",
    "phis = np.array(phis)"
   ]
  },
  {
   "cell_type": "code",
   "execution_count": null,
   "metadata": {
    "cell_style": "split",
    "slideshow": {
     "slide_type": "fragment"
    }
   },
   "outputs": [],
   "source": [
    "anim_rolldecay = RollDecayAnimation(ts=ts, phis=phis)\n",
    "plt.close()\n",
    "display(HTML(anim_rolldecay.to_jshtml()))"
   ]
  },
  {
   "cell_type": "markdown",
   "metadata": {
    "slideshow": {
     "slide_type": "slide"
    }
   },
   "source": [
    "# What could be simulated in your field of research?"
   ]
  }
 ],
 "metadata": {
  "celltoolbar": "Slideshow",
  "jupytext": {
   "formats": "ipynb"
  },
  "kernelspec": {
   "display_name": "Python 3",
   "language": "python",
   "name": "python3"
  },
  "language_info": {
   "codemirror_mode": {
    "name": "ipython",
    "version": 3
   },
   "file_extension": ".py",
   "mimetype": "text/x-python",
   "name": "python",
   "nbconvert_exporter": "python",
   "pygments_lexer": "ipython3",
   "version": "3.6.8"
  },
  "rise": {
   "autolaunch": true,
   "enable_chalkboard": true,
   "scroll": true,
   "theme": "black",
   "transition": "zoom"
  }
 },
 "nbformat": 4,
 "nbformat_minor": 4
}
